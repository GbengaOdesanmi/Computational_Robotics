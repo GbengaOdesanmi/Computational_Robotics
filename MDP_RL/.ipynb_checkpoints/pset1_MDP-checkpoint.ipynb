{
 "cells": [
  {
   "cell_type": "markdown",
   "metadata": {},
   "source": [
    "## Setup"
   ]
  },
  {
   "cell_type": "code",
   "execution_count": 71,
   "metadata": {},
   "outputs": [],
   "source": [
    "import numpy as np\n",
    "\n",
    "\n",
    "# Create dictionary to do Mapping between states and position\n",
    "class myStates:\n",
    "    def __init__(self,Length,Width):\n",
    "        self.L = Length\n",
    "        self.W = Width\n",
    "        \n",
    "        self.stateMatrix = []\n",
    "        # Create state list\n",
    "        dir_mat = np.array(range(12))\n",
    "        for i in range(self.L):\n",
    "            for j in range(self.W):\n",
    "                for k in dir_mat:\n",
    "                    self.stateMatrix.append([i,j,k])\n",
    "        \n",
    "# Creating Actions\n",
    "class myActions:\n",
    "    def __init__(self,act,turn):\n",
    "        self.actionMat = (act,turn)\n",
    "        # [0,0]: Stay still\n",
    "        # [1,0]: Forward only\n",
    "        # [1,1]: Forward clockwise\n",
    "        # [1,-1]: Forward counter-clockwise\n",
    "        # [-1,0]: Backward only\n",
    "        # [-1,1]: Backward clockwise\n",
    "        # [-1,-1]: Backward counter-clockwise\n",
    "        \n",
    "# Creating Probability Space functions\n",
    "def transitionProbability(pe,s,a,s_next,L,W):\n",
    "    \n",
    "    # this function takes error probability pe, current state s = (x,y,h), future\n",
    "    # state s_next = (x',y',h') and size of states as inputs, returns the transition \n",
    "    # probability between each state\n",
    "    \n",
    "    # pe threshold\n",
    "    if pe > 0.5 or pe < 0.0:\n",
    "        raise Exception('error possibility should lie between 0 and 0.5')\n",
    "    \n",
    "    # define possible cartesian movement\n",
    "    pos_x = [1,0]\n",
    "    pos_y = [0,1]\n",
    "    neg_x = [-1,0]\n",
    "    neg_y = [0,-1]\n",
    "    \n",
    "    # create a dictionary for possible heading direction based on current heading,\n",
    "    # consisting of three possible heading configuration for next state\n",
    "    \n",
    "    # h_dic[h] = [(moving_direction,h',possibility),~,~]\n",
    "    h_dic = {}\n",
    "    \n",
    "    h_dic[0] = [(pos_y,0,1-2*pe),(pos_y,1,pe),(pos_x,11,pe)]\n",
    "    h_dic[1] = [(pos_y,1,1-2*pe),(pos_x,2,pe),(pos_x,0,pe)]\n",
    "    h_dic[2] = [(pos_x,2,1-2*pe),(pos_x,3,pe),(pos_x,1,pe)]\n",
    "    h_dic[3] = [(pos_x,3,1-2*pe),(pos_x,4,pe),(neg_y,2,pe)]\n",
    "    h_dic[4] = [(pos_x,4,1-2*pe),(neg_y,5,pe),(neg_y,3,pe)]\n",
    "    h_dic[5] = [(neg_y,5,1-2*pe),(neg_y,6,pe),(neg_y,4,pe)]\n",
    "    h_dic[6] = [(neg_y,6,1-2*pe),(neg_y,7,pe),(neg_x,5,pe)]\n",
    "    h_dic[7] = [(neg_y,7,1-2*pe),(neg_x,8,pe),(neg_x,6,pe)]\n",
    "    h_dic[8] = [(neg_x,8,1-2*pe),(neg_x,9,pe),(neg_x,7,pe)]\n",
    "    h_dic[9] = [(neg_x,9,1-2*pe),(neg_x,10,pe),(pos_y,8,pe)]\n",
    "    h_dic[10] = [(neg_x,10,1-2*pe),(pos_y,11,pe),(pos_y,9,pe)]\n",
    "    h_dic[11] = [(pos_y,11,1-2*pe),(pos_y,0,pe),(pos_y,10,pe)]\n",
    "    \n",
    "    \n",
    "    # create a dictionary for transition probability based on future state \n",
    "    # and current state\n",
    "    transProb = {}\n",
    "\n",
    "    for map_key in h_dic[s[2]]:\n",
    "        x_new = s[0] + a[0]*map_key[0][0]   # move in x direction\n",
    "        xd = x_new if (x_new <= L-1 and x_new >= 0) else s[0]       # else for off-grid movement\n",
    "        y_new = s[1] + a[0]*map_key[0][1]   # move in y direction\n",
    "        yd = y_new if (y_new <= L-1 and y_new >= 0) else s[1]       # else for off-grid movement\n",
    "        hd = (map_key[1] + a[1]) % 12       # new heading direction\n",
    "        if a[0] == 0 and a[1] == 0:\n",
    "            transProb[s] = 1\n",
    "        else: transProb[(xd,yd,hd)] = map_key[2]\n",
    "    \n",
    "    # match with the keys in transProb dictionary\n",
    "    if s_next in transProb.keys():\n",
    "        return(transProb[s_next]);\n",
    "    else: return 0.0\n",
    "        \n",
    "    \n",
    "    \n",
    "    \n"
   ]
  },
  {
   "cell_type": "code",
   "execution_count": 82,
   "metadata": {},
   "outputs": [
    {
     "name": "stdout",
     "output_type": "stream",
     "text": [
      "0.2\n"
     ]
    }
   ],
   "source": [
    "# eg\n",
    "S = myStates(4,3)\n",
    "S.stateMatrix\n",
    "p = transitionProbability(0.2,(1,2,4),(1,1),(1,1,4),4,5)\n",
    "print(p)"
   ]
  },
  {
   "cell_type": "code",
   "execution_count": null,
   "metadata": {},
   "outputs": [],
   "source": []
  },
  {
   "cell_type": "code",
   "execution_count": null,
   "metadata": {},
   "outputs": [],
   "source": []
  }
 ],
 "metadata": {
  "kernelspec": {
   "display_name": "Python 3",
   "language": "python",
   "name": "python3"
  },
  "language_info": {
   "codemirror_mode": {
    "name": "ipython",
    "version": 3
   },
   "file_extension": ".py",
   "mimetype": "text/x-python",
   "name": "python",
   "nbconvert_exporter": "python",
   "pygments_lexer": "ipython3",
   "version": "3.7.0"
  }
 },
 "nbformat": 4,
 "nbformat_minor": 2
}
