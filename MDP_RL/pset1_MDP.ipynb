{
 "cells": [
  {
   "cell_type": "markdown",
   "metadata": {},
   "source": [
    "## Setup"
   ]
  },
  {
   "cell_type": "code",
   "execution_count": 101,
   "metadata": {},
   "outputs": [],
   "source": [
    "# Createing States\n",
    "import matplotlib as mpl\n",
    "import numpy as np\n",
    "\n",
    "\n",
    "class myStates:\n",
    "    def __init__(self,Length,Width):\n",
    "        self.L = Length;\n",
    "        self.W = Width;\n",
    "        \n",
    "        # Create state matrix with dimension 12*L X W\n",
    "        self.stateMatrix = np.array(range(self.L*self.W*12)).reshape(self.W,self.L*12);\n",
    "        self.sz = self.L*self.W*12;\n",
    "        \n",
    "# Creating Actions\n",
    "class myActions:\n",
    "    def __init__(self,Direction,Rotation):\n",
    "        self.D = Direction;\n",
    "        self.R = Rotation;\n",
    "        \n",
    "# Creating Probability Space functions\n",
    "def transitionProbability(pe,s,a,s_next):\n",
    "    if s % 12 in np.array([11,0,1]):\n",
    "        direction = 0;           # moving up\n",
    "    elif s % 12 in np.array([2,3,4]):\n",
    "        direction  = 1;          # moving right\n",
    "    elif s % 12 in np.array([5,6,7]):\n",
    "        direction = 2;           # moving down\n",
    "    elif s % 12 in np.array([8,9,10]):\n",
    "        direction = 3;           # moving left\n",
    "        \n",
    "    direction = a*direction;     # forward or backward or stay still\n",
    "    \n",
    "    \n",
    "        \n",
    "    \n",
    "    \n",
    "    \n"
   ]
  },
  {
   "cell_type": "code",
   "execution_count": 105,
   "metadata": {},
   "outputs": [
    {
     "data": {
      "text/plain": [
       "array([ 72,  73,  74,  75,  76,  77,  78,  79,  80,  81,  82,  83,  84,\n",
       "        85,  86,  87,  88,  89,  90,  91,  92,  93,  94,  95,  96,  97,\n",
       "        98,  99, 100, 101, 102, 103, 104, 105, 106, 107, 108, 109, 110,\n",
       "       111, 112, 113, 114, 115, 116, 117, 118, 119, 120, 121, 122, 123,\n",
       "       124, 125, 126, 127, 128, 129, 130, 131, 132, 133, 134, 135, 136,\n",
       "       137, 138, 139, 140, 141, 142, 143])"
      ]
     },
     "execution_count": 105,
     "metadata": {},
     "output_type": "execute_result"
    }
   ],
   "source": [
    "S = myStates(6,4)\n",
    "S.stateMatrix[1]"
   ]
  },
  {
   "cell_type": "code",
   "execution_count": null,
   "metadata": {},
   "outputs": [],
   "source": []
  }
 ],
 "metadata": {
  "kernelspec": {
   "display_name": "Python 3",
   "language": "python",
   "name": "python3"
  },
  "language_info": {
   "codemirror_mode": {
    "name": "ipython",
    "version": 3
   },
   "file_extension": ".py",
   "mimetype": "text/x-python",
   "name": "python",
   "nbconvert_exporter": "python",
   "pygments_lexer": "ipython3",
   "version": "3.7.0"
  }
 },
 "nbformat": 4,
 "nbformat_minor": 2
}
