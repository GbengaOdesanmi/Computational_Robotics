{
 "cells": [
  {
   "cell_type": "markdown",
   "metadata": {},
   "source": [
    "___Author(s): Chaojie Feng___<br/>\n",
    "___Collaborator(s): XXX___<br/>\n",
    "___External Resources: XXX___<br/>\n",
    "___Specific Contributions: XXX___<br/>\n",
    "___Aggregate Contributions: XXX___<br/>\n"
   ]
  },
  {
   "cell_type": "markdown",
   "metadata": {},
   "source": [
    "# System Definition\n",
    "You will consider a 2 wheeled robot similar to the one shown in Fig. 1. It has two wheels of radius r = 20mm,\n",
    "separated by a distance w = 85mm. It drags a tail for stability.\n",
    "Figure 1: Two wheeled tank-drive robot\n",
    "1\n",
    "Each wheel is powered independently by a bi-directional continuous rotation servo—part number FS90R—with\n",
    "the angular velocity of the wheel controlled by a signal from the microcontroller. This allows the robot to drive\n",
    "forwards or backwards at variable speed, or turn with any turning radius. There may be slippage between the wheels\n",
    "and the floor; assume the resulting effective angular speed of the wheels is normal with a standard deviation of 5%\n",
    "of the max motor speed.\n",
    "The robot has two laser range sensors—part number VL53L0X—and an inertial measurement unit (IMU)—part\n",
    "number MPU-9250. The output of these sensors will be a function of the positional state of the robot within its\n",
    "environment.\n",
    "The robot will be driving within a rectangular environment of length L = 750mm and width W = 500mm,\n",
    "consisting of 4 walls bounding an open space."
   ]
  },
  {
   "cell_type": "code",
   "execution_count": 143,
   "metadata": {},
   "outputs": [],
   "source": [
    "import numpy as np\n",
    "from math import tan,sin,cos,atan\n",
    "from numpy.random import randn\n",
    "from filterpy.kalman import ExtendedKalmanFilter as ekf\n",
    "import collections\n",
    "\n",
    "class myRobot:\n",
    "    def __init__(self,wheelRadius = 20, wheelDistance = 85, maxMotorSpeed = np.pi):\n",
    "        self.wheelRadius = wheelRadius\n",
    "        self.wheelDistance = wheelDistance\n",
    "        self.maxMotorSpeed = maxMotorSpeed\n",
    "        self.errorCoeff = 0.05\n",
    "        \n",
    "class myIMU:\n",
    "    def __init__(self, var = 0.05, bias = 0):\n",
    "        self.var = var\n",
    "        self.bias = bias\n",
    "        \n",
    "class myLaser:\n",
    "    def __init__(self, var = 0.05, bias = 0):\n",
    "        self.var = var\n",
    "        self.bias = bias\n",
    "\n",
    "# u is input variable specifies angular valocity of two wheels\n",
    "def move(x,dt,u,myRobot):\n",
    "    \"\"\"\n",
    "    Input: \n",
    "    x: state variable specified by numpy(xpos, ypos, heading)\n",
    "    u: input control parameter specified as numpy(left_motor_speed, right_motor_speed)\n",
    "    dt: time increment\n",
    "    myRobot: the robot specification\n",
    "    \n",
    "    Output:\n",
    "    x_update: updated state variable\n",
    "    \n",
    "    NOTE: \n",
    "    This is a system model, which means the function doesn't contain any noise. Noise\n",
    "    will be implemented in input.\n",
    "    \n",
    "\n",
    "    \"\"\"\n",
    "    if any(u) > myRobot.maxMotorSpeed:\n",
    "        raise ValueError('motor velocity should not exceed maximum speed')\n",
    "    \n",
    "    if x[0] > 750 or x[1] > 500:\n",
    "        raise ValueError('robot is out of boundary')\n",
    "    \n",
    "    r = myRobot.wheelRadius\n",
    "    d = myRobot.wheelDistance\n",
    "    \n",
    "\n",
    "    # wheel's speeds and distances\n",
    "    lws= u[0]*r\n",
    "    rws = u[1]*r\n",
    "    vel = 0.5*(lws+rws)\n",
    "    lwd = lws*dt\n",
    "    rwd = rws*dt\n",
    "    \n",
    "    # dynamic model (since dynamic model is non-linear equation. We should use EKF)\n",
    "    dx0 = cos(x[2])*vel*dt\n",
    "    dx1 = sin(x[2])*vel*dt\n",
    "    dx2 = atan((rwd-lwd)/d)\n",
    "    \n",
    "    \n",
    "    return x + np.array((dx0,dx1,dx2))"
   ]
  },
  {
   "cell_type": "code",
   "execution_count": 144,
   "metadata": {},
   "outputs": [
    {
     "name": "stdout",
     "output_type": "stream",
     "text": [
      "[4.         1.         0.02352507]\n"
     ]
    }
   ],
   "source": [
    "x = np.array((1,1,0.0))\n",
    "u = np.array((1,2))\n",
    "IMU = myIMU()\n",
    "Laser = myLaser()\n",
    "dt = 0.1\n",
    "Scott = myRobot()\n",
    "x_update = move(x,dt,u,Scott)\n",
    "print(x_update)\n"
   ]
  }
 ],
 "metadata": {
  "kernelspec": {
   "display_name": "Python 3",
   "language": "python",
   "name": "python3"
  },
  "language_info": {
   "codemirror_mode": {
    "name": "ipython",
    "version": 3
   },
   "file_extension": ".py",
   "mimetype": "text/x-python",
   "name": "python",
   "nbconvert_exporter": "python",
   "pygments_lexer": "ipython3",
   "version": "3.7.0"
  }
 },
 "nbformat": 4,
 "nbformat_minor": 2
}
