{
 "cells": [
  {
   "cell_type": "markdown",
   "metadata": {},
   "source": [
    "___Author(s): Chaojie Feng___<br/>\n",
    "___Collaborator(s): XXX___<br/>\n",
    "___External Resources: XXX___<br/>\n",
    "___Specific Contributions: XXX___<br/>\n",
    "___Aggregate Contributions: XXX___<br/>\n"
   ]
  },
  {
   "cell_type": "markdown",
   "metadata": {},
   "source": [
    "# System Definition\n",
    "You will consider a 2 wheeled robot similar to the one shown in Fig. 1. It has two wheels of radius r = 20mm,\n",
    "separated by a distance w = 85mm. It drags a tail for stability.\n",
    "Figure 1: Two wheeled tank-drive robot\n",
    "1\n",
    "Each wheel is powered independently by a bi-directional continuous rotation servo—part number FS90R—with\n",
    "the angular velocity of the wheel controlled by a signal from the microcontroller. This allows the robot to drive\n",
    "forwards or backwards at variable speed, or turn with any turning radius. There may be slippage between the wheels\n",
    "and the floor; assume the resulting effective angular speed of the wheels is normal with a standard deviation of 5%\n",
    "of the max motor speed.\n",
    "The robot has two laser range sensors—part number VL53L0X—and an inertial measurement unit (IMU)—part\n",
    "number MPU-9250. The output of these sensors will be a function of the positional state of the robot within its\n",
    "environment.\n",
    "The robot will be driving within a rectangular environment of length L = 750mm and width W = 500mm,\n",
    "consisting of 4 walls bounding an open space."
   ]
  },
  {
   "cell_type": "code",
   "execution_count": 6,
   "metadata": {},
   "outputs": [],
   "source": [
    "import numpy as np\n",
    "from filterpy.kalman import ExtendedKalmanFilter as ekf\n",
    "import collections\n",
    "\n",
    "# Discretize continuous 2D position space to 10mm X 10mm square\n",
    "class myStates:\n",
    "    def __init__(self, Length = 75, Width = 50, Heading = 12):\n",
    "        self.L = Length\n",
    "        self.W = Width\n",
    "        self.H = Heading\n",
    "\n",
    "# Measurement Set-up\n",
    "\n",
    "# laser sensor VL53L0X specification\n",
    "class myLaserSensor:\n",
    "    def __init__(self, Frequency):\n",
    "        self.freq = Frequency \n",
    "        self.var = 1\n",
    "        \n",
    "# IMU MPU-9250 specification\n",
    "class myIMU:\n",
    "    def __init__(self, Frequency):\n",
    "        if Frequency > 8000 or Frequency < 4:\n",
    "            raise ValueError(\"Invalid Input! Frequency should between 4 and 8000 Hz\")\n",
    "        self.freq = Frequency\n",
    "        self.var = 1\n",
    "        \n",
    "# Rotation servo FS90R specification"
   ]
  },
  {
   "cell_type": "code",
   "execution_count": null,
   "metadata": {},
   "outputs": [],
   "source": []
  }
 ],
 "metadata": {
  "kernelspec": {
   "display_name": "Python 3",
   "language": "python",
   "name": "python3"
  },
  "language_info": {
   "codemirror_mode": {
    "name": "ipython",
    "version": 3
   },
   "file_extension": ".py",
   "mimetype": "text/x-python",
   "name": "python",
   "nbconvert_exporter": "python",
   "pygments_lexer": "ipython3",
   "version": "3.7.0"
  }
 },
 "nbformat": 4,
 "nbformat_minor": 2
}
